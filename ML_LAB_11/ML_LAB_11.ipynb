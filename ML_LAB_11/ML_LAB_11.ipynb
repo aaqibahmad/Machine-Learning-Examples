{
 "cells": [
  {
   "cell_type": "markdown",
   "metadata": {},
   "source": [
    "# ML LAB 11 - October 14, 2020 | Aaqib Ahmad (1947101) "
   ]
  },
  {
   "cell_type": "markdown",
   "metadata": {},
   "source": [
    "## **Demonstrate Multilayer Perceptron using sklearn.** \n",
    "## Program should demonstrate the following:\n",
    "- Minimum Two Different Network Topologies.\n",
    "- 3 Different Activation Functions\n",
    "- MLP for Regression.\n",
    "\n"
   ]
  },
  {
   "cell_type": "markdown",
   "metadata": {},
   "source": [
    "### Multilayer Perceptron\n",
    "\n",
    "\n",
    "**MLP** is a supervised learning algorithm. The follwoing figure shows **One Hidden Layer MLP** with the **Output.**\n",
    "- MLPClassifier stands for Multi-layer Perceptron classifier which in the name itself connects to a Neural Network. \n",
    "- Unlike other classification algorithms such as Support Vectors or Naive Bayes Classifier, MLPClassifier relies on an underlying Neural Network to perform the task of classification.\n",
    "<br><br><br>\n",
    "\n",
    "<center><img src=\"mlp.png\" width=300 height=300></center><br><br>\n",
    "\n",
    "The **Advantages** of Multi-layer perceptron are:\n",
    " * Capability of learning non-linear models\n",
    " * Capability of learning models in real-time through the usage of partial_fit\n",
    "\n",
    "The **Disadvantages** of Multi-layer Perceptron are:\n",
    "* It is sensitive to feature scaling\n",
    "* Tuning of hyperparameters like number of hidden neurons, layers and iterations requires tuning\n",
    "* Different random weight initialisations my laed to different validation accuracy as MLP with hiddenlayers have non-convex loss function where there exists more than one local minimum."
   ]
  },
  {
   "cell_type": "markdown",
   "metadata": {},
   "source": [
    "### Importing Necessary Libraries"
   ]
  },
  {
   "cell_type": "code",
   "execution_count": 21,
   "metadata": {},
   "outputs": [],
   "source": [
    "import numpy as np\n",
    "import pandas as pd\n",
    "import matplotlib.pyplot as plt\n",
    "import seaborn as sns\n",
    "\n",
    "from sklearn.neural_network import MLPClassifier\n",
    "from sklearn.preprocessing import MinMaxScaler\n",
    "from sklearn.datasets import load_breast_cancer\n",
    "from sklearn.model_selection import train_test_split\n",
    "from sklearn.metrics import confusion_matrix, classification_report\n",
    "%matplotlib inline\n",
    "\n",
    "import warnings\n",
    "warnings.filterwarnings('ignore')\n",
    "warnings.simplefilter('ignore')"
   ]
  },
  {
   "cell_type": "markdown",
   "metadata": {},
   "source": [
    "### sklearn Dataset : Breast Cancer Dataset"
   ]
  },
  {
   "cell_type": "code",
   "execution_count": 22,
   "metadata": {},
   "outputs": [
    {
     "data": {
      "text/plain": [
       "dict_keys(['data', 'target', 'frame', 'target_names', 'DESCR', 'feature_names', 'filename'])"
      ]
     },
     "execution_count": 22,
     "metadata": {},
     "output_type": "execute_result"
    }
   ],
   "source": [
    "cancer = load_breast_cancer()\n",
    "cancer.keys()"
   ]
  },
  {
   "cell_type": "code",
   "execution_count": 23,
   "metadata": {},
   "outputs": [
    {
     "name": "stdout",
     "output_type": "stream",
     "text": [
      ".. _breast_cancer_dataset:\n",
      "\n",
      "Breast cancer wisconsin (diagnostic) dataset\n",
      "--------------------------------------------\n",
      "\n",
      "**Data Set Characteristics:**\n",
      "\n",
      "    :Number of Instances: 569\n",
      "\n",
      "    :Number of Attributes: 30 numeric, predictive attributes and the class\n",
      "\n",
      "    :Attribute Information:\n",
      "        - radius (mean of distances from center to points on the perimeter)\n",
      "        - texture (standard deviation of gray-scale values)\n",
      "        - perimeter\n",
      "        - area\n",
      "        - smoothness (local variation in radius lengths)\n",
      "        - compactness (perimeter^2 / area - 1.0)\n",
      "        - concavity (severity of concave portions of the contour)\n",
      "        - concave points (number of concave portions of the contour)\n",
      "        - symmetry\n",
      "        - fractal dimension (\"coastline approximation\" - 1)\n",
      "\n",
      "        The mean, standard error, and \"worst\" or largest (mean of the three\n",
      "        worst/largest values) of these features were computed for each image,\n",
      "        resulting in 30 features.  For instance, field 0 is Mean Radius, field\n",
      "        10 is Radius SE, field 20 is Worst Radius.\n",
      "\n",
      "        - class:\n",
      "                - WDBC-Malignant\n",
      "                - WDBC-Benign\n",
      "\n",
      "    :Summary Statistics:\n",
      "\n",
      "    ===================================== ====== ======\n",
      "                                           Min    Max\n",
      "    ===================================== ====== ======\n",
      "    radius (mean):                        6.981  28.11\n",
      "    texture (mean):                       9.71   39.28\n",
      "    perimeter (mean):                     43.79  188.5\n",
      "    area (mean):                          143.5  2501.0\n",
      "    smoothness (mean):                    0.053  0.163\n",
      "    compactness (mean):                   0.019  0.345\n",
      "    concavity (mean):                     0.0    0.427\n",
      "    concave points (mean):                0.0    0.201\n",
      "    symmetry (mean):                      0.106  0.304\n",
      "    fractal dimension (mean):             0.05   0.097\n",
      "    radius (standard error):              0.112  2.873\n",
      "    texture (standard error):             0.36   4.885\n",
      "    perimeter (standard error):           0.757  21.98\n",
      "    area (standard error):                6.802  542.2\n",
      "    smoothness (standard error):          0.002  0.031\n",
      "    compactness (standard error):         0.002  0.135\n",
      "    concavity (standard error):           0.0    0.396\n",
      "    concave points (standard error):      0.0    0.053\n",
      "    symmetry (standard error):            0.008  0.079\n",
      "    fractal dimension (standard error):   0.001  0.03\n",
      "    radius (worst):                       7.93   36.04\n",
      "    texture (worst):                      12.02  49.54\n",
      "    perimeter (worst):                    50.41  251.2\n",
      "    area (worst):                         185.2  4254.0\n",
      "    smoothness (worst):                   0.071  0.223\n",
      "    compactness (worst):                  0.027  1.058\n",
      "    concavity (worst):                    0.0    1.252\n",
      "    concave points (worst):               0.0    0.291\n",
      "    symmetry (worst):                     0.156  0.664\n",
      "    fractal dimension (worst):            0.055  0.208\n",
      "    ===================================== ====== ======\n",
      "\n",
      "    :Missing Attribute Values: None\n",
      "\n",
      "    :Class Distribution: 212 - Malignant, 357 - Benign\n",
      "\n",
      "    :Creator:  Dr. William H. Wolberg, W. Nick Street, Olvi L. Mangasarian\n",
      "\n",
      "    :Donor: Nick Street\n",
      "\n",
      "    :Date: November, 1995\n",
      "\n",
      "This is a copy of UCI ML Breast Cancer Wisconsin (Diagnostic) datasets.\n",
      "https://goo.gl/U2Uwz2\n",
      "\n",
      "Features are computed from a digitized image of a fine needle\n",
      "aspirate (FNA) of a breast mass.  They describe\n",
      "characteristics of the cell nuclei present in the image.\n",
      "\n",
      "Separating plane described above was obtained using\n",
      "Multisurface Method-Tree (MSM-T) [K. P. Bennett, \"Decision Tree\n",
      "Construction Via Linear Programming.\" Proceedings of the 4th\n",
      "Midwest Artificial Intelligence and Cognitive Science Society,\n",
      "pp. 97-101, 1992], a classification method which uses linear\n",
      "programming to construct a decision tree.  Relevant features\n",
      "were selected using an exhaustive search in the space of 1-4\n",
      "features and 1-3 separating planes.\n",
      "\n",
      "The actual linear program used to obtain the separating plane\n",
      "in the 3-dimensional space is that described in:\n",
      "[K. P. Bennett and O. L. Mangasarian: \"Robust Linear\n",
      "Programming Discrimination of Two Linearly Inseparable Sets\",\n",
      "Optimization Methods and Software 1, 1992, 23-34].\n",
      "\n",
      "This database is also available through the UW CS ftp server:\n",
      "\n",
      "ftp ftp.cs.wisc.edu\n",
      "cd math-prog/cpo-dataset/machine-learn/WDBC/\n",
      "\n",
      ".. topic:: References\n",
      "\n",
      "   - W.N. Street, W.H. Wolberg and O.L. Mangasarian. Nuclear feature extraction \n",
      "     for breast tumor diagnosis. IS&T/SPIE 1993 International Symposium on \n",
      "     Electronic Imaging: Science and Technology, volume 1905, pages 861-870,\n",
      "     San Jose, CA, 1993.\n",
      "   - O.L. Mangasarian, W.N. Street and W.H. Wolberg. Breast cancer diagnosis and \n",
      "     prognosis via linear programming. Operations Research, 43(4), pages 570-577, \n",
      "     July-August 1995.\n",
      "   - W.H. Wolberg, W.N. Street, and O.L. Mangasarian. Machine learning techniques\n",
      "     to diagnose breast cancer from fine-needle aspirates. Cancer Letters 77 (1994) \n",
      "     163-171.\n"
     ]
    }
   ],
   "source": [
    "print(cancer['DESCR'])"
   ]
  },
  {
   "cell_type": "code",
   "execution_count": 24,
   "metadata": {},
   "outputs": [],
   "source": [
    "X_can, y_can = load_breast_cancer(return_X_y = True)"
   ]
  },
  {
   "cell_type": "markdown",
   "metadata": {},
   "source": [
    "### Data Standardization"
   ]
  },
  {
   "cell_type": "code",
   "execution_count": 25,
   "metadata": {},
   "outputs": [],
   "source": [
    "scaler = MinMaxScaler()\n",
    "scaler.fit(X_can)\n",
    "\n",
    "X_can_scaled = scaler.transform(X_can)"
   ]
  },
  {
   "cell_type": "markdown",
   "metadata": {},
   "source": [
    "### Train-Test Split for Dataset"
   ]
  },
  {
   "cell_type": "code",
   "execution_count": 26,
   "metadata": {},
   "outputs": [],
   "source": [
    "X_train, X_test, y_train, y_test = train_test_split(X_can_scaled, y_can, random_state=0)"
   ]
  },
  {
   "cell_type": "markdown",
   "metadata": {},
   "source": [
    "## Implementation of Network Topology (1)"
   ]
  },
  {
   "cell_type": "markdown",
   "metadata": {},
   "source": [
    "### Single Hidden Layer"
   ]
  },
  {
   "cell_type": "code",
   "execution_count": 46,
   "metadata": {},
   "outputs": [
    {
     "name": "stdout",
     "output_type": "stream",
     "text": [
      "Name of the Dataset: Breast Cancer Dataset\n",
      "\n",
      "1 Unit(s)\n",
      "=================================\n",
      "Accuracy of Classifier on Training Set : 0.99\n",
      "Accuracy of Classifier on Testing Set  : 0.94\n",
      "=================================\n",
      " \n",
      "Confustion Matrix:\n",
      "[[50  3]\n",
      " [ 5 85]]\n",
      "=================================\n",
      " \n",
      "Classification Report\n",
      "              precision    recall  f1-score   support\n",
      "\n",
      "           0       0.91      0.94      0.93        53\n",
      "           1       0.97      0.94      0.96        90\n",
      "\n",
      "    accuracy                           0.94       143\n",
      "   macro avg       0.94      0.94      0.94       143\n",
      "weighted avg       0.94      0.94      0.94       143\n",
      "\n",
      "\n",
      "\n",
      "10 Unit(s)\n",
      "=================================\n",
      "Accuracy of Classifier on Training Set : 1.00\n",
      "Accuracy of Classifier on Testing Set  : 0.96\n",
      "=================================\n",
      " \n",
      "Confustion Matrix:\n",
      "[[51  2]\n",
      " [ 4 86]]\n",
      "=================================\n",
      " \n",
      "Classification Report\n",
      "              precision    recall  f1-score   support\n",
      "\n",
      "           0       0.93      0.96      0.94        53\n",
      "           1       0.98      0.96      0.97        90\n",
      "\n",
      "    accuracy                           0.96       143\n",
      "   macro avg       0.95      0.96      0.96       143\n",
      "weighted avg       0.96      0.96      0.96       143\n",
      "\n",
      "\n",
      "\n",
      "100 Unit(s)\n",
      "=================================\n",
      "Accuracy of Classifier on Training Set : 1.00\n",
      "Accuracy of Classifier on Testing Set  : 0.95\n",
      "=================================\n",
      " \n",
      "Confustion Matrix:\n",
      "[[51  2]\n",
      " [ 5 85]]\n",
      "=================================\n",
      " \n",
      "Classification Report\n",
      "              precision    recall  f1-score   support\n",
      "\n",
      "           0       0.91      0.96      0.94        53\n",
      "           1       0.98      0.94      0.96        90\n",
      "\n",
      "    accuracy                           0.95       143\n",
      "   macro avg       0.94      0.95      0.95       143\n",
      "weighted avg       0.95      0.95      0.95       143\n",
      "\n",
      "\n",
      "\n"
     ]
    }
   ],
   "source": [
    "print(\"Name of the Dataset: Breast Cancer Dataset\\n\")\n",
    "for unit in [1, 10, 100]:\n",
    "    oneclf = MLPClassifier(hidden_layer_sizes=[unit], solver='lbfgs',random_state=0).fit(X_train, y_train)\n",
    "    print(\"{} Unit(s)\" .format(unit))\n",
    "    print(\"=================================\")\n",
    "    print('Accuracy of Classifier on Training Set : {:.2f}'.format(oneclf.score(X_train, y_train)))\n",
    "    print('Accuracy of Classifier on Testing Set  : {:.2f}'.format(oneclf.score(X_test, y_test)))\n",
    "    print(\"=================================\")\n",
    "    print(\" \")\n",
    "    oneclf_pred = oneclf.predict(X_test)\n",
    "    print(\"Confustion Matrix:\")\n",
    "    print(confusion_matrix(y_test, oneclf_pred))\n",
    "    print(\"=================================\")\n",
    "    print(\" \")\n",
    "    print(\"Classification Report\")\n",
    "    print(classification_report(y_test, oneclf_pred))\n",
    "    print(\"\\n\")"
   ]
  },
  {
   "cell_type": "markdown",
   "metadata": {},
   "source": [
    "## Implementation of Network Topology (2)"
   ]
  },
  {
   "cell_type": "markdown",
   "metadata": {},
   "source": [
    "### Two Hidden Layers"
   ]
  },
  {
   "cell_type": "code",
   "execution_count": 45,
   "metadata": {},
   "outputs": [
    {
     "name": "stdout",
     "output_type": "stream",
     "text": [
      "Breast cancer dataset\n",
      "=======================================\n",
      "Accuracy of Classifier on Training Set : 0.98\n",
      "Accuracy of Classifier on Testing Set  : 0.97\n"
     ]
    }
   ],
   "source": [
    "twoclf = MLPClassifier(hidden_layer_sizes=[100, 100], alpha = 5.0, random_state=0, solver='lbfgs').fit(X_train, y_train)\n",
    "#The 'solver' is for weight optimization\n",
    "\n",
    "print('Breast cancer dataset')\n",
    "print(\"=======================================\")\n",
    "print('Accuracy of Classifier on Training Set : {:.2f}'.format(twoclf.score(X_train, y_train)))\n",
    "print('Accuracy of Classifier on Testing Set  : {:.2f}'.format(twoclf.score(X_test, y_test)))"
   ]
  },
  {
   "cell_type": "code",
   "execution_count": 52,
   "metadata": {},
   "outputs": [
    {
     "name": "stdout",
     "output_type": "stream",
     "text": [
      "Accuracy Value with Two Hidden Layers:\n",
      "96.5034965034965 %\n",
      "\n",
      "Confustion Matrix:\n"
     ]
    },
    {
     "data": {
      "image/png": "[encoded data removed]",
      "text/plain": [
       "<Figure size 360x288 with 2 Axes>"
      ]
     },
     "metadata": {
      "needs_background": "light"
     },
     "output_type": "display_data"
    }
   ],
   "source": [
    "twoclf_pred = twoclf.predict(X_test)\n",
    "print('Accuracy Value with Two Hidden Layers:')\n",
    "print(metrics.accuracy_score(y_test, twoclf_pred)*100, \"%\")\n",
    "print(\"\")\n",
    "print(\"Confustion Matrix:\")\n",
    "cm_rl=metrics.confusion_matrix(y_true=y_test, y_pred=twoclf_pred)\n",
    "f,ax = plt.subplots(figsize=(5, 4))\n",
    "sns.heatmap(cm_rl, annot=True, linewidths=.5, fmt= '.1f',ax=ax);"
   ]
  },
  {
   "cell_type": "code",
   "execution_count": 53,
   "metadata": {},
   "outputs": [
    {
     "name": "stdout",
     "output_type": "stream",
     "text": [
      "Classification Report\n",
      "              precision    recall  f1-score   support\n",
      "\n",
      "           0       0.98      0.92      0.95        53\n",
      "           1       0.96      0.99      0.97        90\n",
      "\n",
      "    accuracy                           0.97       143\n",
      "   macro avg       0.97      0.96      0.96       143\n",
      "weighted avg       0.97      0.97      0.96       143\n",
      "\n"
     ]
    }
   ],
   "source": [
    "print(\"Classification Report\")\n",
    "print(classification_report(y_test, twoclf_pred))"
   ]
  },
  {
   "cell_type": "markdown",
   "metadata": {},
   "source": [
    "## Activation Function\n",
    "\n",
    "**What is activation function?**\n",
    "\n",
    "An activation function is a function that decides whetehr a neuron should be selected or not through calculation of weight sum and further adding bias along with. The main property of the activation function is introducing non-linearity into the output of a neuron.\n",
    "\n",
    "Some of the variations of Activation functions are:\n",
    "\n",
    "**1) ReLU Function**\n",
    "\n",
    "* abbreviation of Rectified Linear Unit\n",
    "* mostly used to implement hidden layers of Neural Network\n",
    "* euation $A(x) = max(0, x)$, an output is generated if x is positive else it returns 0\n",
    "* its value ranges from [0, $\\inf$)\n",
    "* non-linear in nature, since it can easily backpropagate the errors and have multiple leayers of neurons being activated by the ReLU function.\n",
    "* Compared to tanh and sigmoid, ReLU is less computationally expensive as it involves simpler mathematical operations. Since, only a few neurons are activated the network becomes sparse thus making it more efficient and easier for computation.\n",
    "\n",
    "**2) Sigmoid Function**\n",
    "\n",
    "* a function that is plotted as 'S' shaped graph\n",
    "* Equation: $A=\\frac{1}{1+e^{-x}}$\n",
    "* its value ranges from -2 to +2, thus samll change in x brings about a large change in the value of A\n",
    "\n",
    "**3) TanH Function**\n",
    "\n",
    "* also known as Tangent Hyperbolic Function\n",
    "* works better than sigmoid fuction\n",
    "* mathematical shifted version of the sigmoid function\n",
    "* similar to sigmoid function and can be derived from each other\n",
    "* it is non-linear in nature\n",
    "* usually used in hidden layers of neural network. Since it's value lies between -1 and +1, the mean for the hidden layer becomes 0 or close to it, thus helping in centering the data. This allows easier learning for the next layer.\n",
    "\n"
   ]
  },
  {
   "cell_type": "markdown",
   "metadata": {},
   "source": [
    "## Activation Functions - relu, tanh and sigmoid"
   ]
  },
  {
   "cell_type": "code",
   "execution_count": 12,
   "metadata": {
    "scrolled": true
   },
   "outputs": [
    {
     "data": {
      "image/png": "[encoded data removed]",
      "text/plain": [
       "<Figure size 432x288 with 1 Axes>"
      ]
     },
     "metadata": {
      "needs_background": "light"
     },
     "output_type": "display_data"
    }
   ],
   "source": [
    "x = np.linspace(-2, 2, 200)\n",
    "\n",
    "plt.figure(figsize=(6, 4))\n",
    "\n",
    "plt.plot(x, np.maximum(x, 0), label='relu')\n",
    "plt.plot(x, np.tanh(x), label='tanh')\n",
    "plt.plot(x, 1/(1 + np.exp(-x)), label='logistic')\n",
    "plt.legend()\n",
    "plt.title(\"Neural Network Activation Functions\")\n",
    "plt.xlabel(\"Input value (x)\")\n",
    "plt.ylabel(\"Activation Function Output\")\n",
    "plt.show()"
   ]
  },
  {
   "cell_type": "markdown",
   "metadata": {},
   "source": [
    "## Effects of the Activation Function"
   ]
  },
  {
   "cell_type": "code",
   "execution_count": 57,
   "metadata": {},
   "outputs": [
    {
     "name": "stdout",
     "output_type": "stream",
     "text": [
      "Name of the Activation Function: logistic\n",
      "=======================================================\n",
      "Accuracy of Classifier on Training Set : 1.00\n",
      "Accuracy of Classifier on Testing Set  : 0.97\n",
      "\n",
      "Confustion matrix:\n",
      "[[51  2]\n",
      " [ 3 87]]\n",
      "\n",
      "classification report\n",
      "              precision    recall  f1-score   support\n",
      "\n",
      "           0       0.94      0.96      0.95        53\n",
      "           1       0.98      0.97      0.97        90\n",
      "\n",
      "    accuracy                           0.97       143\n",
      "   macro avg       0.96      0.96      0.96       143\n",
      "weighted avg       0.97      0.97      0.97       143\n",
      "\n",
      "\n",
      "\n",
      "Name of the Activation Function: tanh\n",
      "=======================================================\n",
      "Accuracy of Classifier on Training Set : 1.00\n",
      "Accuracy of Classifier on Testing Set  : 0.97\n",
      "\n",
      "Confustion matrix:\n",
      "[[51  2]\n",
      " [ 3 87]]\n",
      "\n",
      "classification report\n",
      "              precision    recall  f1-score   support\n",
      "\n",
      "           0       0.94      0.96      0.95        53\n",
      "           1       0.98      0.97      0.97        90\n",
      "\n",
      "    accuracy                           0.97       143\n",
      "   macro avg       0.96      0.96      0.96       143\n",
      "weighted avg       0.97      0.97      0.97       143\n",
      "\n",
      "\n",
      "\n",
      "Name of the Activation Function: relu\n",
      "=======================================================\n",
      "Accuracy of Classifier on Training Set : 1.00\n",
      "Accuracy of Classifier on Testing Set  : 0.94\n",
      "\n",
      "Confustion matrix:\n",
      "[[50  3]\n",
      " [ 5 85]]\n",
      "\n",
      "classification report\n",
      "              precision    recall  f1-score   support\n",
      "\n",
      "           0       0.91      0.94      0.93        53\n",
      "           1       0.97      0.94      0.96        90\n",
      "\n",
      "    accuracy                           0.94       143\n",
      "   macro avg       0.94      0.94      0.94       143\n",
      "weighted avg       0.94      0.94      0.94       143\n",
      "\n",
      "\n",
      "\n"
     ]
    }
   ],
   "source": [
    "for activation in ['logistic', 'tanh', 'relu']:\n",
    "    clf = MLPClassifier(solver='lbfgs', activation=activation, alpha=0.01,\n",
    "                         hidden_layer_sizes=[10, 10], random_state=0,\n",
    "                       max_iter=2000).fit(X_train, y_train)\n",
    "    print(\"Name of the Activation Function: {}\" .format(activation))\n",
    "    print(\"=======================================================\")\n",
    "    print('Accuracy of Classifier on Training Set : {:.2f}'.format(clf.score(X_train, y_train)))\n",
    "    print('Accuracy of Classifier on Testing Set  : {:.2f}'.format(clf.score(X_test, y_test)))\n",
    "    clf_pred = clf.predict(X_test)\n",
    "    print(\"\")\n",
    "    print(\"Confustion matrix:\")\n",
    "    print(confusion_matrix(y_test, clf_pred))\n",
    "    print(\"\")\n",
    "    print(\"classification report\")\n",
    "    print(classification_report(y_test, clf_pred))\n",
    "    print(\"\\n\")"
   ]
  },
  {
   "cell_type": "markdown",
   "metadata": {},
   "source": [
    "## MLP for Regression\n",
    "\n",
    "**MLPRegressor** implements a multi-layer perceptron (MLP) that trains using backpropagation with no activation function in the output layer, which can also be seen as using the identity function as activation function. Therefore, it uses the square error as the loss function, and the output is a set of continuous values.\n",
    "\n",
    "MLPRegressor also supports multi-output regression, in which a sample can have more than one target."
   ]
  },
  {
   "cell_type": "markdown",
   "metadata": {},
   "source": [
    "### Importing LIbraries"
   ]
  },
  {
   "cell_type": "code",
   "execution_count": 14,
   "metadata": {},
   "outputs": [],
   "source": [
    "from sklearn.datasets import make_regression\n",
    "from sklearn.neural_network import MLPRegressor\n",
    "from sklearn.model_selection import train_test_split"
   ]
  },
  {
   "cell_type": "markdown",
   "metadata": {},
   "source": [
    "### Dataset via Make_Regression of sklearn "
   ]
  },
  {
   "cell_type": "code",
   "execution_count": 15,
   "metadata": {},
   "outputs": [],
   "source": [
    "X_reg, y_reg = make_regression(n_samples=100, n_features=1, n_informative=1, bias=150.0, noise=30, random_state=0)"
   ]
  },
  {
   "cell_type": "code",
   "execution_count": 16,
   "metadata": {},
   "outputs": [
    {
     "data": {
      "image/png": "[encoded data removed]",
      "text/plain": [
       "<Figure size 864x432 with 1 Axes>"
      ]
     },
     "metadata": {
      "needs_background": "light"
     },
     "output_type": "display_data"
    }
   ],
   "source": [
    "plt.figure(figsize=(12, 6))\n",
    "plt.scatter(X_reg, y_reg, marker='o', s=50)\n",
    "plt.title(\"Sample regression problem with one input variable\")\n",
    "plt.show()"
   ]
  },
  {
   "cell_type": "markdown",
   "metadata": {},
   "source": [
    "### Data Standardization"
   ]
  },
  {
   "cell_type": "code",
   "execution_count": 17,
   "metadata": {},
   "outputs": [],
   "source": [
    "from sklearn.preprocessing import MinMaxScaler\n",
    "scaler = MinMaxScaler()\n",
    "scaler.fit(X_reg)\n",
    "\n",
    "X_reg_scaled = scaler.transform(X_reg)"
   ]
  },
  {
   "cell_type": "markdown",
   "metadata": {},
   "source": [
    "### Using the Regressor\n",
    "\n",
    "Both **MLPRegressor** and **MLPClassifier** use parameter alpha for regularization (L2 regularization) term which helps in avoiding overfitting by penalizing weights with large magnitudes. Following plot displays varying decision function with value of alpha."
   ]
  },
  {
   "cell_type": "code",
   "execution_count": 18,
   "metadata": {},
   "outputs": [
    {
     "data": {
      "image/png": "[encoded data removed]",
      "text/plain": [
       "<Figure size 792x576 with 6 Axes>"
      ]
     },
     "metadata": {
      "needs_background": "light"
     },
     "output_type": "display_data"
    }
   ],
   "source": [
    "fig, subaxes = plt.subplots(2, 3, figsize=(11, 8))\n",
    "\n",
    "X_pred = np.linspace(-3, 3, 50).reshape(-1, 1)\n",
    "\n",
    "X_train, X_test, y_train, y_test = train_test_split(X_reg_scaled[0::5], y_reg[0::5], random_state=0)\n",
    "\n",
    "for ar, activation in zip(subaxes, ['tanh','relu']):\n",
    "    for alpha, axis in zip([0.001, 1.0, 100], ar):\n",
    "        mlp = MLPRegressor(hidden_layer_sizes=[100, 100],\n",
    "                          activation = activation,\n",
    "                          alpha = alpha,\n",
    "                          solver='sgd',\n",
    "                          max_iter=3500).fit(X_train, y_train)\n",
    "        y_pred = mlp.predict(X_pred)\n",
    "        axis.set_xlim([-2.5, 0.75])\n",
    "        axis.plot(X_pred, y_pred, 'd', markersize=10)\n",
    "        axis.plot(X_train, y_train, 'o')\n",
    "        axis.set_xlabel(\"Input Feature\")\n",
    "        axis.set_ylabel(\"Target Value\")\n",
    "        axis.set_title('MLP Regression\\nalpha={}, activation={}' .format(alpha, activation))\n",
    "        plt.tight_layout()"
   ]
  },
  {
   "cell_type": "markdown",
   "metadata": {},
   "source": [
    " =============================================================================================== Aaqib Ahmad (ML_LAB_11)"
   ]
  }
 ],
 "metadata": {
  "kernelspec": {
   "display_name": "Python 3",
   "language": "python",
   "name": "python3"
  },
  "language_info": {
   "codemirror_mode": {
    "name": "ipython",
    "version": 3
   },
   "file_extension": ".py",
   "mimetype": "text/x-python",
   "name": "python",
   "nbconvert_exporter": "python",
   "pygments_lexer": "ipython3",
   "version": "3.7.9"
  },
  "latex_envs": {
   "LaTeX_envs_menu_present": true,
   "autoclose": false,
   "autocomplete": true,
   "bibliofile": "biblio.bib",
   "cite_by": "apalike",
   "current_citInitial": 1,
   "eqLabelWithNumbers": true,
   "eqNumInitial": 1,
   "hotkeys": {
    "equation": "Ctrl-E",
    "itemize": "Ctrl-I"
   },
   "labels_anchors": false,
   "latex_user_defs": false,
   "report_style_numbering": false,
   "user_envs_cfg": false
  }
 },
 "nbformat": 4,
 "nbformat_minor": 4
}
